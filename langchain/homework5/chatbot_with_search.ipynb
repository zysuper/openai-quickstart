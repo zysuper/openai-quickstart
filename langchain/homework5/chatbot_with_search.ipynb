{
 "cells": [
  {
   "cell_type": "code",
   "execution_count": 10,
   "metadata": {},
   "outputs": [],
   "source": [
    "from langgraph.graph.message import add_messages\n",
    "from langchain_core.messages import ToolMessage, BaseMessage\n",
    "from langgraph.graph import StateGraph, START, END\n",
    "from typing import Annotated, TypedDict\n",
    "from langchain_openai import ChatOpenAI\n",
    "from langchain_community.tools import TavilySearchResults\n",
    "from typing import Literal\n",
    "import json\n",
    "import os"
   ]
  },
  {
   "cell_type": "code",
   "execution_count": 11,
   "metadata": {},
   "outputs": [],
   "source": [
    "class State(TypedDict):\n",
    "    messages: Annotated[list, add_messages]"
   ]
  },
  {
   "cell_type": "code",
   "execution_count": 12,
   "metadata": {},
   "outputs": [],
   "source": [
    "# 工具节点\n",
    "class BasicToolNode:\n",
    "    def __init__(self, tools: list):\n",
    "        self.tools_by_name = {tool.name: tool for tool in tools}\n",
    "\n",
    "    def __call__(self, inputs: dict):\n",
    "        # 获取消息列表中的最后一条消息，判断是否包含工具调用请求\n",
    "        if messages := inputs.get(\"messages\", []):\n",
    "            message = messages[-1]\n",
    "        else:\n",
    "            raise ValueError(\"输入中未找到消息\")\n",
    "        \n",
    "        # 用于保存工具调用的结果\n",
    "        outputs = []\n",
    "\n",
    "        # 遍历工具调用请求，执行工具并将结果返回\n",
    "        for tool_call in message.tool_calls:\n",
    "            # 根据工具名称找到相应的工具，并调用工具的 invoke 方法执行工具\n",
    "            tool_result = self.tools_by_name[tool_call[\"name\"]].invoke(\n",
    "                tool_call[\"args\"]\n",
    "            )\n",
    "            # 将工具调用结果作为 ToolMessage 保存下来\n",
    "            outputs.append(\n",
    "                ToolMessage(\n",
    "                    content=json.dumps(tool_result),  # 工具调用的结果以 JSON 格式保存\n",
    "                    name=tool_call[\"name\"],  # 工具的名称\n",
    "                    tool_call_id=tool_call[\"id\"],  # 工具调用的唯一标识符\n",
    "                )\n",
    "            )\n",
    "        # 返回包含工具调用结果的消息\n",
    "        return {\"messages\": outputs}\n",
    "\n"
   ]
  },
  {
   "cell_type": "code",
   "execution_count": 13,
   "metadata": {},
   "outputs": [],
   "source": [
    "def route_tools(state: State) -> Literal[\"tools\", \"__end__\"]:\n",
    "    \"\"\"\n",
    "    使用条件边来检查最后一条消息中是否有工具调用。\n",
    "    \n",
    "    参数:\n",
    "    state: 状态字典或消息列表，用于存储当前对话的状态和消息。\n",
    "    \n",
    "    返回:\n",
    "    如果最后一条消息包含工具调用，返回 \"tools\" 节点，表示需要执行工具调用；\n",
    "    否则返回 \"__end__\"，表示直接结束流程。\n",
    "    \"\"\"\n",
    "    # 检查状态是否是列表类型（即消息列表），取最后一条 AI 消息\n",
    "    if isinstance(state, list):\n",
    "        ai_message = state[-1]\n",
    "    # 否则从状态字典中获取 \"messages\" 键，取最后一条消息\n",
    "    elif messages := state.get(\"messages\", []):\n",
    "        ai_message = messages[-1]\n",
    "    # 如果没有找到消息，则抛出异常\n",
    "    else:\n",
    "        raise ValueError(f\"输入状态中未找到消息: {state}\")\n",
    "\n",
    "    # 检查最后一条消息是否有工具调用请求\n",
    "    if hasattr(ai_message, \"tool_calls\") and len(ai_message.tool_calls) > 0:\n",
    "        return \"tools\"  # 如果有工具调用请求，返回 \"tools\" 节点\n",
    "    return END  # 否则返回 \"__end__\"，流程结束\n"
   ]
  },
  {
   "cell_type": "code",
   "execution_count": 14,
   "metadata": {},
   "outputs": [],
   "source": [
    "# 开启 LangSmith 跟踪，便于调试和查看详细执行信息\n",
    "os.environ[\"LANGCHAIN_TRACING_V2\"] = \"true\"\n",
    "os.environ[\"LANGCHAIN_PROJECT\"] = \"ChatBotVoteWithSearch\"\n",
    "\n",
    "# Tavily 搜索工具\n",
    "search_tool = TavilySearchResults(max_results=2)\n",
    "tools = [search_tool]\n",
    "\n",
    "# 创建聊天模型，并绑定工具\n",
    "chat_model = ChatOpenAI(model=\"gpt-4o-mini\").bind_tools(tools)"
   ]
  },
  {
   "cell_type": "code",
   "execution_count": 15,
   "metadata": {},
   "outputs": [],
   "source": [
    "# 聊天节点\n",
    "def chatbot(state: State):\n",
    "    return {\"messages\": [chat_model.invoke(state[\"messages\"])]}"
   ]
  },
  {
   "cell_type": "code",
   "execution_count": 16,
   "metadata": {},
   "outputs": [],
   "source": [
    "def translate_to_chinese(input: State):\n",
    "    content = input[\"messages\"][-1].content\n",
    "    return {\"messages\": [chat_model.invoke([\n",
    "            (\"system\", \"Translate the following text to Chinese: \"),\n",
    "            (\"user\", content),\n",
    "            ]\n",
    "    )]} "
   ]
  },
  {
   "cell_type": "code",
   "execution_count": 17,
   "metadata": {},
   "outputs": [],
   "source": [
    "def build_graph():\n",
    "    # 工具节点\n",
    "    tool_node = BasicToolNode(tools)\n",
    "\n",
    "    graph_builder = StateGraph(State)\n",
    "\n",
    "    # 添加节点\n",
    "    graph_builder.add_node(\"chatbot\", chatbot)\n",
    "    graph_builder.add_node(\"tool_node\", tool_node)\n",
    "    graph_builder.add_node(\"traslate_node\", translate_to_chinese)\n",
    "\n",
    "    # 添加边\n",
    "    graph_builder.add_edge(START, \"chatbot\")\n",
    "    graph_builder.add_conditional_edges(\n",
    "        \"chatbot\",\n",
    "        route_tools,\n",
    "        {\n",
    "            \"tools\": \"tool_node\",\n",
    "            END: \"traslate_node\",\n",
    "        },\n",
    "    )\n",
    "    graph_builder.add_edge(\"tool_node\", \"chatbot\")\n",
    "    graph_builder.add_edge(\"traslate_node\", END)\n",
    "\n",
    "    return graph_builder.compile()\n"
   ]
  },
  {
   "cell_type": "code",
   "execution_count": 18,
   "metadata": {},
   "outputs": [
    {
     "data": {
      "image/jpeg": "[encoded data removed]",
      "text/plain": [
       "<IPython.core.display.Image object>"
      ]
     },
     "metadata": {},
     "output_type": "display_data"
    }
   ],
   "source": [
    "graph = build_graph()\n",
    "\n",
    "from IPython.display import Image, display\n",
    "\n",
    "try:\n",
    "    display(Image(graph.get_graph().draw_mermaid_png()))\n",
    "except Exception:\n",
    "    pass\n"
   ]
  },
  {
   "cell_type": "code",
   "execution_count": 19,
   "metadata": {},
   "outputs": [],
   "source": [
    "# 选举问题。\n",
    "vote_question = \"Today is {current_date}, who was win the US presidential election on November 5, 2024?\""
   ]
  },
  {
   "cell_type": "code",
   "execution_count": 20,
   "metadata": {},
   "outputs": [
    {
     "name": "stdout",
     "output_type": "stream",
     "text": [
      "Function: [{'id': 'call_RajCkFmbmJI9TiIxG6brpKTj', 'function': {'arguments': '{\"query\":\"US presidential election results November 5, 2024\"}', 'name': 'tavily_search_results_json'}, 'type': 'function'}]\n",
      "\n",
      "Assistant: [{\"url\": \"https://www.bbc.com/news/election/2024/us/results\", \"content\": \"US Presidential Election Results 2024 - BBC News Close menu BBC News Kamala Harris of the Democrat party has 0 electoral college votes. Donald Trump of the Republican party has 0 electoral college votes. Kamala Harris of the Democrat party has 158,810 votes (38.4%) Donald Trump of the Republican party has 249,225 votes (60.2%) US presidential election results 2024 US election 2024 Voting in some states is particularly hard to predict, with polls showing they could be won by the Republicans or the Democratic party. The battleground states that could decide the 2024 presidential election are: Voters in 11 states will also elect a governor. US election polls: Who is ahead - Harris or Trump? US election 2024 About the BBC\"}, {\"url\": \"https://www.usatoday.com/elections/results/2024-11-05\", \"content\": \"2024 U.S. Election: Live Results and Maps State Results Advertisement - scroll for more content Advertisement - scroll for more content 2024 U.S. Election Results Heading into Election Day, Democrat Kamala Harris and Republican Donald Trump were locked in a tight race for the White House, and control of both the U.S. Senate and House was hanging in the balance. | Electoral Votes | ArizonaAZ11 | GeorgiaGA16 | MichiganMI15 | North CarolinaNC16 | NevadaNV6 | PennsylvaniaPA19 | WisconsinWI10 | Full Presidential Results U.S. Senate Full U.S. Senate Results No results U.S. House Full U.S. House Results No results Advertisement Advertisement - scroll for more content Election Results by State North Carolina North Dakota Advertisement Advertisement - scroll for more content\"}]\n",
      "\n",
      "Assistant: As of now, the results of the US presidential election held on November 5, 2024, are not yet finalized. Early reports indicate that Kamala Harris, the Democrat candidate, has received 158,810 votes (38.4%), while Donald Trump, the Republican candidate, has received 249,225 votes (60.2%). However, these numbers are subject to change as the election results are still being tallied.\n",
      "\n",
      "For more detailed and updated information, you can check the full results on [BBC News](https://www.bbc.com/news/election/2024/us/results) or [USA Today](https://www.usatoday.com/elections/results/2024-11-05).\n",
      "\n",
      "Assistant: 截至目前，2024年11月5日举行的美国总统选举结果尚未最终确定。初步报告显示，民主党候选人卡马拉·哈里斯获得了158,810票（38.4%），而共和党候选人唐纳德·特朗普获得了249,225票（60.2%）。不过，由于选举结果仍在统计中，这些数字可能会发生变化。\n",
      "\n",
      "有关更详细和最新的信息，您可以查看[英国广播公司新闻](https://www.bbc.com/news/election/2024/us/results)或[今日美国](https://www.usatoday.com/elections/results/2024-11-05)上的完整结果。\n",
      "\n"
     ]
    }
   ],
   "source": [
    "for event in graph.stream({\"messages\": [(\"user\", vote_question)]}):\n",
    "    for value in event.values():\n",
    "        if isinstance(value[\"messages\"][-1], BaseMessage):\n",
    "            # 如果消息是 BaseMessage 类型，则打印机器人的回复\n",
    "            last_msg = value[\"messages\"][-1]\n",
    "            if last_msg.content:\n",
    "                print(f\"Assistant: {last_msg.content}\\n\")\n",
    "            else:\n",
    "                print(f\"Function: {last_msg.additional_kwargs['tool_calls']}\\n\")"
   ]
  }
 ],
 "metadata": {
  "kernelspec": {
   "display_name": "Python 3 (ipykernel)",
   "language": "python",
   "name": "python3"
  },
  "language_info": {
   "codemirror_mode": {
    "name": "ipython",
    "version": 3
   },
   "file_extension": ".py",
   "mimetype": "text/x-python",
   "name": "python",
   "nbconvert_exporter": "python",
   "pygments_lexer": "ipython3",
   "version": "3.10.15"
  }
 },
 "nbformat": 4,
 "nbformat_minor": 4
}
